{
  "nbformat": 4,
  "nbformat_minor": 0,
  "metadata": {
    "colab": {
      "name": "1주차.ipynb",
      "provenance": []
    },
    "kernelspec": {
      "name": "python3",
      "display_name": "Python 3"
    }
  },
  "cells": [
    {
      "cell_type": "markdown",
      "metadata": {
        "id": "TcDXzXEo_rnq",
        "colab_type": "text"
      },
      "source": [
        "# 1주차 과제\n",
        "언어분야\n",
        "![대체 텍스트](https://play.google.com/store/apps/details?id=com.iloen.aztalk)\n",
        "AI스피커가 나온 뒤에 가장 많이 사용하는 기능은 음악 추천인 듯 하다. 카카오미니를 통해 어느 정도 검증이 돼서일까. 멜론은 카카오톡과 연계하여 뮤직 챗봇 로니를 4월 12일에 런칭했다. 채팅으로 음악을 추천해주고 검색해주는 서비스를 제공한다고 하는데, 필자도 관심이 있어 한 번 사용을 해 보았다."
      ]
    }
  ]
}